{
 "cells": [
  {
   "cell_type": "markdown",
   "metadata": {},
   "source": [
    "This portion of the project will analyze the prevalence of specific topics of music lyrics by decade, and also by specific genres. For this, we found a dataset showing numerous songs and their topics based on keywords found in the song's lyrics. "
   ]
  },
  {
   "cell_type": "code",
   "execution_count": 1,
   "metadata": {},
   "outputs": [
    {
     "name": "stdout",
     "output_type": "stream",
     "text": [
      "   Unnamed: 0           artist_name            track_name  release_date genre  \\\n",
      "0           0                mukesh  mohabbat bhi jhoothi          1950   pop   \n",
      "1           4         frankie laine             i believe          1950   pop   \n",
      "2           6           johnnie ray                   cry          1950   pop   \n",
      "3          10           pérez prado              patricia          1950   pop   \n",
      "4          12  giorgos papadopoulos    apopse eida oneiro          1950   pop   \n",
      "\n",
      "                                              lyrics  len    dating  violence  \\\n",
      "0  hold time feel break feel untrue convince spea...   95  0.000598  0.063746   \n",
      "1  believe drop rain fall grow believe darkest ni...   51  0.035537  0.096777   \n",
      "2  sweetheart send letter goodbye secret feel bet...   24  0.002770  0.002770   \n",
      "3  kiss lips want stroll charm mambo chacha merin...   54  0.048249  0.001548   \n",
      "4  till darling till matter know till dream live ...   48  0.001350  0.001350   \n",
      "\n",
      "   world/life  ...   sadness  feelings  danceability  loudness  acousticness  \\\n",
      "0    0.000598  ...  0.380299  0.117175      0.357739  0.454119      0.997992   \n",
      "1    0.443435  ...  0.001284  0.001284      0.331745  0.647540      0.954819   \n",
      "2    0.002770  ...  0.002770  0.225422      0.456298  0.585288      0.840361   \n",
      "3    0.001548  ...  0.225889  0.001548      0.686992  0.744404      0.083935   \n",
      "4    0.417772  ...  0.068800  0.001350      0.291671  0.646489      0.975904   \n",
      "\n",
      "   instrumentalness   valence    energy       topic  age  \n",
      "0          0.901822  0.339448  0.137110     sadness  1.0  \n",
      "1          0.000002  0.325021  0.263240  world/life  1.0  \n",
      "2          0.000000  0.351814  0.139112       music  1.0  \n",
      "3          0.199393  0.775350  0.743736    romantic  1.0  \n",
      "4          0.000246  0.597073  0.394375    romantic  1.0  \n",
      "\n",
      "[5 rows x 31 columns]\n",
      "       Unnamed: 0 artist_name                     track_name  release_date  \\\n",
      "28367       82447     mack 10                10 million ways          2019   \n",
      "28368       82448      m.o.p.  ante up (robbin hoodz theory)          2019   \n",
      "28369       82449        nine                  whutcha want?          2019   \n",
      "28370       82450  will smith                         switch          2019   \n",
      "28371       82451       jeezy                         r.i.p.          2019   \n",
      "\n",
      "         genre                                             lyrics  len  \\\n",
      "28367  hip hop  cause fuck leave scar tick tock clock come kno...   78   \n",
      "28368  hip hop  minks things chain ring braclets yap fame come...   67   \n",
      "28369  hip hop  get ban get ban stick crack relax plan attack ...   77   \n",
      "28370  hip hop  check check yeah yeah hear thing call switch g...   67   \n",
      "28371  hip hop  remix killer alive remix thriller trap bitch s...   83   \n",
      "\n",
      "         dating  violence  world/life  ...   sadness  feelings  danceability  \\\n",
      "28367  0.001350  0.001350    0.001350  ...  0.065664  0.001350      0.889527   \n",
      "28368  0.001284  0.001284    0.035338  ...  0.001284  0.001284      0.662082   \n",
      "28369  0.001504  0.154302    0.168988  ...  0.001504  0.001504      0.663165   \n",
      "28370  0.001196  0.001196    0.001196  ...  0.001196  0.001196      0.883028   \n",
      "28371  0.001012  0.075202    0.001012  ...  0.001012  0.033995      0.828875   \n",
      "\n",
      "       loudness  acousticness  instrumentalness   valence    energy    topic  \\\n",
      "28367  0.759711      0.062549          0.000000  0.751649  0.695686  obscene   \n",
      "28368  0.789580      0.004607          0.000002  0.922712  0.797791  obscene   \n",
      "28369  0.726970      0.104417          0.000001  0.838211  0.767761  obscene   \n",
      "28370  0.786888      0.007027          0.000503  0.508450  0.885882  obscene   \n",
      "28371  0.674794      0.015862          0.000000  0.475474  0.492477  obscene   \n",
      "\n",
      "            age  \n",
      "28367  0.014286  \n",
      "28368  0.014286  \n",
      "28369  0.014286  \n",
      "28370  0.014286  \n",
      "28371  0.014286  \n",
      "\n",
      "[5 rows x 31 columns]\n",
      "(28372, 31)\n",
      "6096\n"
     ]
    }
   ],
   "source": [
    "import pandas as pd\n",
    "\n",
    "music_topics = pd.read_csv(\"./data/music_topics.csv\", header=0)\n",
    "print(music_topics.head())\n",
    "print(music_topics.tail())\n",
    "print(music_topics.shape)\n",
    "print(music_topics[\"topic\"].value_counts()[\"sadness\"])\n"
   ]
  },
  {
   "cell_type": "code",
   "execution_count": 2,
   "metadata": {},
   "outputs": [
    {
     "data": {
      "text/plain": [
       "0"
      ]
     },
     "execution_count": 2,
     "metadata": {},
     "output_type": "execute_result"
    }
   ],
   "source": [
    "#Check for duplicates\n",
    "music_topics.duplicated().sum()"
   ]
  },
  {
   "cell_type": "code",
   "execution_count": 3,
   "metadata": {},
   "outputs": [
    {
     "name": "stdout",
     "output_type": "stream",
     "text": [
      "Index(['Unnamed: 0', 'artist_name', 'track_name', 'release_date', 'genre',\n",
      "       'lyrics', 'len', 'dating', 'violence', 'world/life', 'night/time',\n",
      "       'shake the audience', 'family/gospel', 'romantic', 'communication',\n",
      "       'obscene', 'music', 'movement/places', 'light/visual perceptions',\n",
      "       'family/spiritual', 'like/girls', 'sadness', 'feelings', 'danceability',\n",
      "       'loudness', 'acousticness', 'instrumentalness', 'valence', 'energy',\n",
      "       'topic', 'age'],\n",
      "      dtype='object')\n"
     ]
    }
   ],
   "source": [
    "#get names of columns\n",
    "print(music_topics.columns)"
   ]
  },
  {
   "cell_type": "code",
   "execution_count": 10,
   "metadata": {},
   "outputs": [
    {
     "name": "stdout",
     "output_type": "stream",
     "text": [
      "(28372, 30)\n",
      "Index(['artist_name', 'track_name', 'release_date', 'genre', 'lyrics', 'len',\n",
      "       'dating', 'violence', 'world/life', 'night/time', 'shake the audience',\n",
      "       'family/gospel', 'romantic', 'communication', 'obscene', 'music',\n",
      "       'movement/places', 'light/visual perceptions', 'family/spiritual',\n",
      "       'like/girls', 'sadness', 'feelings', 'danceability', 'loudness',\n",
      "       'acousticness', 'instrumentalness', 'valence', 'energy', 'topic',\n",
      "       'age'],\n",
      "      dtype='object')\n"
     ]
    }
   ],
   "source": [
    "#Remove irrelevant column (only works when put into another variable for some reason)\n",
    "music_topics_df = music_topics.drop(labels='Unnamed: 0', axis=1)\n",
    "#print(music_topics[\"topic\"].value_counts()[\"sadness\"])\n",
    "#verify that column was dropped\n",
    "print(music_topics_df.shape)\n",
    "print(music_topics_df.columns)"
   ]
  },
  {
   "cell_type": "code",
   "execution_count": 12,
   "metadata": {},
   "outputs": [
    {
     "name": "stdout",
     "output_type": "stream",
     "text": [
      "False\n",
      "0\n"
     ]
    }
   ],
   "source": [
    "#check for any null values \n",
    "print(music_topics_df.isnull().values.any())\n",
    "print(music_topics_df.isnull().values.sum())"
   ]
  },
  {
   "cell_type": "code",
   "execution_count": 21,
   "metadata": {},
   "outputs": [
    {
     "name": "stdout",
     "output_type": "stream",
     "text": [
      "(1468, 30)\n",
      "(3409, 30)\n",
      "(3951, 30)\n",
      "(4675, 30)\n",
      "(4457, 30)\n",
      "(4781, 30)\n",
      "(5631, 30)\n"
     ]
    }
   ],
   "source": [
    "#parse the data out by decades \n",
    "music_topics_fifties = music_topics_df.loc[music_topics_df.release_date.isin([1950, 1951, 1952, 1953, 1954, 1955, 1956, 1957, 1958, 1959])]\n",
    "print(music_topics_fifties.shape)\n",
    "music_topics_sixties = music_topics_df.loc[music_topics_df.release_date.isin([1960, 1961, 1962, 1963, 1964, 1965, 1966, 1967, 1968, 1969])]\n",
    "print(music_topics_sixties.shape)\n",
    "music_topics_seventies = music_topics_df.loc[music_topics_df.release_date.isin([1970, 1971, 1972, 1973, 1974, 1975, 1976, 1977, 1978, 1979])]\n",
    "print(music_topics_seventies.shape)\n",
    "music_topics_eighties = music_topics_df.loc[music_topics_df.release_date.isin([1980, 1981, 1982, 1983, 1984, 1985, 1986, 1987, 1988, 1989])]\n",
    "print(music_topics_eighties.shape)\n",
    "music_topics_nineties = music_topics_df.loc[music_topics_df.release_date.isin([1990, 1991, 1992, 1993, 1994, 1995, 1996, 1997, 1998, 1999])]\n",
    "print(music_topics_nineties.shape)\n",
    "music_topics_2000s = music_topics_df.loc[music_topics_df.release_date.isin([2000, 2001, 2002, 2003, 2004, 2005, 2006, 2007, 2008, 2009])]\n",
    "print(music_topics_2000s.shape)\n",
    "music_topics_2010s = music_topics_df.loc[music_topics_df.release_date.isin([2010, 2011, 2012, 2013, 2014, 2015, 2016, 2017, 2018, 2019])]\n",
    "print(music_topics_2010s.shape)"
   ]
  },
  {
   "cell_type": "code",
   "execution_count": 28,
   "metadata": {},
   "outputs": [
    {
     "name": "stdout",
     "output_type": "stream",
     "text": [
      "['pop' 'country' 'blues' 'jazz' 'reggae' 'rock' 'hip hop']\n",
      "(7042, 30)\n",
      "(5445, 30)\n",
      "(4604, 30)\n",
      "(3845, 30)\n",
      "(2498, 30)\n",
      "(4034, 30)\n",
      "(904, 30)\n"
     ]
    }
   ],
   "source": [
    "#parse data out by genre\n",
    "print(music_topics_df.genre.unique())\n",
    "music_topics_pop = music_topics_df.loc[music_topics_df.genre == 'pop']\n",
    "print(music_topics_pop.shape)\n",
    "music_topics_country = music_topics_df.loc[music_topics_df.genre == 'country']\n",
    "print(music_topics_country.shape)\n",
    "music_topics_blues = music_topics_df.loc[music_topics_df.genre == 'blues']\n",
    "print(music_topics_blues.shape)\n",
    "music_topics_jazz = music_topics_df.loc[music_topics_df.genre == 'jazz']\n",
    "print(music_topics_jazz.shape)\n",
    "music_topics_reggae = music_topics_df.loc[music_topics_df.genre == 'reggae']\n",
    "print(music_topics_reggae.shape)\n",
    "music_topics_rock = music_topics_df.loc[music_topics_df.genre == 'rock']\n",
    "print(music_topics_rock.shape)\n",
    "music_topics_hip_hop = music_topics_df.loc[music_topics_df.genre == 'hip hop']\n",
    "print(music_topics_hip_hop.shape)\n",
    "\n"
   ]
  }
 ],
 "metadata": {
  "kernelspec": {
   "display_name": "venv",
   "language": "python",
   "name": "python3"
  },
  "language_info": {
   "codemirror_mode": {
    "name": "ipython",
    "version": 3
   },
   "file_extension": ".py",
   "mimetype": "text/x-python",
   "name": "python",
   "nbconvert_exporter": "python",
   "pygments_lexer": "ipython3",
   "version": "3.11.5"
  }
 },
 "nbformat": 4,
 "nbformat_minor": 2
}
