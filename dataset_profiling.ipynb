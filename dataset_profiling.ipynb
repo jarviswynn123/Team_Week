{
 "cells": [
  {
   "cell_type": "code",
   "execution_count": 2,
   "metadata": {},
   "outputs": [],
   "source": [
    "import pandas as pd\n",
    "\n",
    "billboard_top_100 = pd.read_csv(\"./data/charts.csv\", header=0)\n",
    "df_billboard_all = billboard_top_100[[\"date\", \"song\", \"artist\", \"peak-rank\", \"weeks-on-board\"]]\n",
    "df_billboard = df_billboard_all.drop_duplicates(subset=[\"song\", \"artist\"], keep=\"first\").reset_index(drop=True)\n",
    "\n",
    "# display(df_billboard.head(50))\n",
    "# display(df_billboard.sort_values(by=[\"peak-rank\", \"weeks-on-board\"], ascending=[True, False]).head(50))\n",
    "\n",
    "df_billboard = df_billboard.sort_values(by=[\"peak-rank\", \"weeks-on-board\"], ascending=[True, False])\n",
    "df_billboard_peak_rank_1 = df_billboard[df_billboard[\"peak-rank\"] == 1]\n",
    "\n",
    "\n",
    "df_billboard.to_csv(\"./data/cleaned_billboard_top100\", index=False) \n"
   ]
  },
  {
   "cell_type": "code",
   "execution_count": 198,
   "metadata": {},
   "outputs": [],
   "source": [
    "df_billboard_peak_rank_1[\"count\"] = df_billboard_peak_rank_1.groupby(\"artist\")[\"artist\"].transform(\"count\")\n",
    "# display(df_billboard_peak_rank_1)\n",
    "df_billboard_peak_rank_1 = df_billboard_peak_rank_1.sort_values('count', ascending=False)\n",
    "df_billboard_peak_rank_1.to_csv(\"./data/billboard_top_rank\", index=False)"
   ]
  },
  {
   "cell_type": "code",
   "execution_count": 4,
   "metadata": {},
   "outputs": [],
   "source": [
    "df_billboard_all[\"count\"] = df_billboard_all.groupby(\"artist\")[\"artist\"].transform(\"count\")\n",
    "df_billboard_all = df_billboard_all.sort_values(\"count\", ascending=False)\n",
    "df_billboard_all.to_csv(\"./data/billboards_artist_instances\", index=False)"
   ]
  }
 ],
 "metadata": {
  "kernelspec": {
   "display_name": "venv",
   "language": "python",
   "name": "python3"
  },
  "language_info": {
   "codemirror_mode": {
    "name": "ipython",
    "version": 3
   },
   "file_extension": ".py",
   "mimetype": "text/x-python",
   "name": "python",
   "nbconvert_exporter": "python",
   "pygments_lexer": "ipython3",
   "version": "3.10.12"
  }
 },
 "nbformat": 4,
 "nbformat_minor": 2
}
