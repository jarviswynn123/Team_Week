{
 "cells": [
  {
   "cell_type": "markdown",
   "metadata": {},
   "source": []
  },
  {
   "cell_type": "code",
   "execution_count": 1,
   "metadata": {},
   "outputs": [
    {
     "name": "stdout",
     "output_type": "stream",
     "text": [
      "   Unnamed: 0           artist_name            track_name  release_date genre  \\\n",
      "0           0                mukesh  mohabbat bhi jhoothi          1950   pop   \n",
      "1           4         frankie laine             i believe          1950   pop   \n",
      "2           6           johnnie ray                   cry          1950   pop   \n",
      "3          10           pérez prado              patricia          1950   pop   \n",
      "4          12  giorgos papadopoulos    apopse eida oneiro          1950   pop   \n",
      "\n",
      "                                              lyrics  len    dating  violence  \\\n",
      "0  hold time feel break feel untrue convince spea...   95  0.000598  0.063746   \n",
      "1  believe drop rain fall grow believe darkest ni...   51  0.035537  0.096777   \n",
      "2  sweetheart send letter goodbye secret feel bet...   24  0.002770  0.002770   \n",
      "3  kiss lips want stroll charm mambo chacha merin...   54  0.048249  0.001548   \n",
      "4  till darling till matter know till dream live ...   48  0.001350  0.001350   \n",
      "\n",
      "   world/life  ...   sadness  feelings  danceability  loudness  acousticness  \\\n",
      "0    0.000598  ...  0.380299  0.117175      0.357739  0.454119      0.997992   \n",
      "1    0.443435  ...  0.001284  0.001284      0.331745  0.647540      0.954819   \n",
      "2    0.002770  ...  0.002770  0.225422      0.456298  0.585288      0.840361   \n",
      "3    0.001548  ...  0.225889  0.001548      0.686992  0.744404      0.083935   \n",
      "4    0.417772  ...  0.068800  0.001350      0.291671  0.646489      0.975904   \n",
      "\n",
      "   instrumentalness   valence    energy       topic  age  \n",
      "0          0.901822  0.339448  0.137110     sadness  1.0  \n",
      "1          0.000002  0.325021  0.263240  world/life  1.0  \n",
      "2          0.000000  0.351814  0.139112       music  1.0  \n",
      "3          0.199393  0.775350  0.743736    romantic  1.0  \n",
      "4          0.000246  0.597073  0.394375    romantic  1.0  \n",
      "\n",
      "[5 rows x 31 columns]\n",
      "       Unnamed: 0 artist_name                     track_name  release_date  \\\n",
      "28367       82447     mack 10                10 million ways          2019   \n",
      "28368       82448      m.o.p.  ante up (robbin hoodz theory)          2019   \n",
      "28369       82449        nine                  whutcha want?          2019   \n",
      "28370       82450  will smith                         switch          2019   \n",
      "28371       82451       jeezy                         r.i.p.          2019   \n",
      "\n",
      "         genre                                             lyrics  len  \\\n",
      "28367  hip hop  cause fuck leave scar tick tock clock come kno...   78   \n",
      "28368  hip hop  minks things chain ring braclets yap fame come...   67   \n",
      "28369  hip hop  get ban get ban stick crack relax plan attack ...   77   \n",
      "28370  hip hop  check check yeah yeah hear thing call switch g...   67   \n",
      "28371  hip hop  remix killer alive remix thriller trap bitch s...   83   \n",
      "\n",
      "         dating  violence  world/life  ...   sadness  feelings  danceability  \\\n",
      "28367  0.001350  0.001350    0.001350  ...  0.065664  0.001350      0.889527   \n",
      "28368  0.001284  0.001284    0.035338  ...  0.001284  0.001284      0.662082   \n",
      "28369  0.001504  0.154302    0.168988  ...  0.001504  0.001504      0.663165   \n",
      "28370  0.001196  0.001196    0.001196  ...  0.001196  0.001196      0.883028   \n",
      "28371  0.001012  0.075202    0.001012  ...  0.001012  0.033995      0.828875   \n",
      "\n",
      "       loudness  acousticness  instrumentalness   valence    energy    topic  \\\n",
      "28367  0.759711      0.062549          0.000000  0.751649  0.695686  obscene   \n",
      "28368  0.789580      0.004607          0.000002  0.922712  0.797791  obscene   \n",
      "28369  0.726970      0.104417          0.000001  0.838211  0.767761  obscene   \n",
      "28370  0.786888      0.007027          0.000503  0.508450  0.885882  obscene   \n",
      "28371  0.674794      0.015862          0.000000  0.475474  0.492477  obscene   \n",
      "\n",
      "            age  \n",
      "28367  0.014286  \n",
      "28368  0.014286  \n",
      "28369  0.014286  \n",
      "28370  0.014286  \n",
      "28371  0.014286  \n",
      "\n",
      "[5 rows x 31 columns]\n"
     ]
    }
   ],
   "source": [
    "import pandas as pd\n",
    "\n",
    "#read the music_topics csv into a pandas DataFrame\n",
    "music_topics = pd.read_csv(\"./data/music_topics.csv\", header=0)\n",
    "\n",
    "#checking head and tail of data\n",
    "print(music_topics.head())\n",
    "print(music_topics.tail())\n",
    "\n"
   ]
  },
  {
   "cell_type": "code",
   "execution_count": 2,
   "metadata": {},
   "outputs": [
    {
     "name": "stdout",
     "output_type": "stream",
     "text": [
      "(28372, 31)\n",
      "<class 'pandas.core.frame.DataFrame'>\n",
      "RangeIndex: 28372 entries, 0 to 28371\n",
      "Data columns (total 31 columns):\n",
      " #   Column                    Non-Null Count  Dtype  \n",
      "---  ------                    --------------  -----  \n",
      " 0   Unnamed: 0                28372 non-null  int64  \n",
      " 1   artist_name               28372 non-null  object \n",
      " 2   track_name                28372 non-null  object \n",
      " 3   release_date              28372 non-null  int64  \n",
      " 4   genre                     28372 non-null  object \n",
      " 5   lyrics                    28372 non-null  object \n",
      " 6   len                       28372 non-null  int64  \n",
      " 7   dating                    28372 non-null  float64\n",
      " 8   violence                  28372 non-null  float64\n",
      " 9   world/life                28372 non-null  float64\n",
      " 10  night/time                28372 non-null  float64\n",
      " 11  shake the audience        28372 non-null  float64\n",
      " 12  family/gospel             28372 non-null  float64\n",
      " 13  romantic                  28372 non-null  float64\n",
      " 14  communication             28372 non-null  float64\n",
      " 15  obscene                   28372 non-null  float64\n",
      " 16  music                     28372 non-null  float64\n",
      " 17  movement/places           28372 non-null  float64\n",
      " 18  light/visual perceptions  28372 non-null  float64\n",
      " 19  family/spiritual          28372 non-null  float64\n",
      " 20  like/girls                28372 non-null  float64\n",
      " 21  sadness                   28372 non-null  float64\n",
      " 22  feelings                  28372 non-null  float64\n",
      " 23  danceability              28372 non-null  float64\n",
      " 24  loudness                  28372 non-null  float64\n",
      " 25  acousticness              28372 non-null  float64\n",
      " 26  instrumentalness          28372 non-null  float64\n",
      " 27  valence                   28372 non-null  float64\n",
      " 28  energy                    28372 non-null  float64\n",
      " 29  topic                     28372 non-null  object \n",
      " 30  age                       28372 non-null  float64\n",
      "dtypes: float64(23), int64(3), object(5)\n",
      "memory usage: 6.7+ MB\n",
      "None\n",
      "         Unnamed: 0  release_date           len        dating      violence  \\\n",
      "count  28372.000000  28372.000000  28372.000000  28372.000000  28372.000000   \n",
      "mean   42946.323558   1990.236888     73.028444      0.021112      0.118396   \n",
      "std    24749.325492     18.487463     41.829831      0.052370      0.178684   \n",
      "min        0.000000   1950.000000      1.000000      0.000291      0.000284   \n",
      "25%    20391.250000   1975.000000     42.000000      0.000923      0.001120   \n",
      "50%    45405.500000   1991.000000     63.000000      0.001462      0.002506   \n",
      "75%    64090.500000   2007.000000     93.000000      0.004049      0.192608   \n",
      "max    82451.000000   2019.000000    199.000000      0.647706      0.981781   \n",
      "\n",
      "         world/life    night/time  shake the audience  family/gospel  \\\n",
      "count  28372.000000  28372.000000        28372.000000   28372.000000   \n",
      "mean       0.120973      0.057387            0.017422       0.017045   \n",
      "std        0.172200      0.111923            0.040670       0.041966   \n",
      "min        0.000291      0.000289            0.000284       0.000289   \n",
      "25%        0.001170      0.001032            0.000993       0.000923   \n",
      "50%        0.006579      0.001949            0.001595       0.001504   \n",
      "75%        0.197793      0.065842            0.010002       0.004785   \n",
      "max        0.962105      0.973684            0.497463       0.545303   \n",
      "\n",
      "           romantic  ...    like/girls       sadness      feelings  \\\n",
      "count  28372.000000  ...  28372.000000  28372.000000  28372.000000   \n",
      "mean       0.048681  ...      0.028057      0.129389      0.030996   \n",
      "std        0.106095  ...      0.058473      0.181143      0.071652   \n",
      "min        0.000284  ...      0.000284      0.000284      0.000289   \n",
      "25%        0.000975  ...      0.000975      0.001144      0.000993   \n",
      "50%        0.001754  ...      0.001595      0.005263      0.001754   \n",
      "75%        0.042301  ...      0.026622      0.235113      0.032622   \n",
      "max        0.940789  ...      0.594459      0.981424      0.958810   \n",
      "\n",
      "       danceability      loudness  acousticness  instrumentalness  \\\n",
      "count  28372.000000  28372.000000  2.837200e+04      28372.000000   \n",
      "mean       0.533348      0.665249  3.392347e-01          0.080049   \n",
      "std        0.173218      0.108434  3.267143e-01          0.211245   \n",
      "min        0.005415      0.000000  2.811248e-07          0.000000   \n",
      "25%        0.412975      0.595364  3.423598e-02          0.000000   \n",
      "50%        0.538612      0.679050  2.259028e-01          0.000085   \n",
      "75%        0.656666      0.749026  6.325298e-01          0.009335   \n",
      "max        0.993502      1.000000  1.000000e+00          0.996964   \n",
      "\n",
      "            valence        energy           age  \n",
      "count  28372.000000  28372.000000  28372.000000  \n",
      "mean       0.532864      0.569875      0.425187  \n",
      "std        0.250972      0.244385      0.264107  \n",
      "min        0.000000      0.000000      0.014286  \n",
      "25%        0.329143      0.380361      0.185714  \n",
      "50%        0.539365      0.580567      0.414286  \n",
      "75%        0.738252      0.772766      0.642857  \n",
      "max        1.000000      1.000000      1.000000  \n",
      "\n",
      "[8 rows x 26 columns]\n",
      "6096\n"
     ]
    }
   ],
   "source": [
    "#profiling the data\n",
    "print(music_topics.shape)\n",
    "print(music_topics.info())\n",
    "print(music_topics.describe())\n",
    "print(music_topics[\"topic\"].value_counts()[\"sadness\"])"
   ]
  },
  {
   "cell_type": "code",
   "execution_count": 3,
   "metadata": {},
   "outputs": [
    {
     "data": {
      "text/plain": [
       "0"
      ]
     },
     "execution_count": 3,
     "metadata": {},
     "output_type": "execute_result"
    }
   ],
   "source": [
    "#Check for duplicates\n",
    "music_topics.duplicated().sum()"
   ]
  },
  {
   "cell_type": "code",
   "execution_count": 4,
   "metadata": {},
   "outputs": [
    {
     "name": "stdout",
     "output_type": "stream",
     "text": [
      "Index(['Unnamed: 0', 'artist_name', 'track_name', 'release_date', 'genre',\n",
      "       'lyrics', 'len', 'dating', 'violence', 'world/life', 'night/time',\n",
      "       'shake the audience', 'family/gospel', 'romantic', 'communication',\n",
      "       'obscene', 'music', 'movement/places', 'light/visual perceptions',\n",
      "       'family/spiritual', 'like/girls', 'sadness', 'feelings', 'danceability',\n",
      "       'loudness', 'acousticness', 'instrumentalness', 'valence', 'energy',\n",
      "       'topic', 'age'],\n",
      "      dtype='object')\n"
     ]
    }
   ],
   "source": [
    "#get names of columns\n",
    "print(music_topics.columns)"
   ]
  },
  {
   "cell_type": "code",
   "execution_count": 5,
   "metadata": {},
   "outputs": [
    {
     "name": "stdout",
     "output_type": "stream",
     "text": [
      "(28372, 12)\n",
      "Index(['artist_name', 'track_name', 'release_date', 'genre', 'lyrics',\n",
      "       'violence', 'world/life', 'night/time', 'romantic', 'obscene',\n",
      "       'sadness', 'topic'],\n",
      "      dtype='object')\n"
     ]
    }
   ],
   "source": [
    "#Remove irrelevant columns (only works when put into another variable for some reason)\n",
    "drop_cols = ['Unnamed: 0', 'dating', 'len', 'shake the audience', 'family/gospel', 'communication', 'music', 'movement/places', 'light/visual perceptions', 'family/spiritual', 'like/girls', 'feelings', 'danceability', 'loudness', 'acousticness', 'instrumentalness', 'valence', 'energy', 'age']\n",
    "music_topics_df = music_topics.drop(labels=drop_cols, axis=1)\n",
    "#print(music_topics[\"topic\"].value_counts()[\"sadness\"])\n",
    "#verify that columns were dropped\n",
    "print(music_topics_df.shape)\n",
    "print(music_topics_df.columns)"
   ]
  },
  {
   "cell_type": "code",
   "execution_count": 6,
   "metadata": {},
   "outputs": [
    {
     "name": "stdout",
     "output_type": "stream",
     "text": [
      "False\n",
      "0\n"
     ]
    }
   ],
   "source": [
    "#check for any null values \n",
    "print(music_topics_df.isnull().values.any())\n",
    "print(music_topics_df.isnull().values.sum())"
   ]
  },
  {
   "cell_type": "code",
   "execution_count": 7,
   "metadata": {},
   "outputs": [
    {
     "name": "stdout",
     "output_type": "stream",
     "text": [
      "(27760, 12)\n"
     ]
    }
   ],
   "source": [
    "#drop rows where topic equals feelings\n",
    "music_topics_df = music_topics_df.drop(music_topics_df[music_topics_df[\"topic\"] == \"feelings\"].index)\n",
    "print(music_topics_df.shape)"
   ]
  },
  {
   "cell_type": "code",
   "execution_count": 8,
   "metadata": {},
   "outputs": [
    {
     "data": {
      "text/html": [
       "<div>\n",
       "<style scoped>\n",
       "    .dataframe tbody tr th:only-of-type {\n",
       "        vertical-align: middle;\n",
       "    }\n",
       "\n",
       "    .dataframe tbody tr th {\n",
       "        vertical-align: top;\n",
       "    }\n",
       "\n",
       "    .dataframe thead th {\n",
       "        text-align: right;\n",
       "    }\n",
       "</style>\n",
       "<table border=\"1\" class=\"dataframe\">\n",
       "  <thead>\n",
       "    <tr style=\"text-align: right;\">\n",
       "      <th></th>\n",
       "      <th>artist_name</th>\n",
       "      <th>track_name</th>\n",
       "      <th>release_date</th>\n",
       "      <th>genre</th>\n",
       "      <th>lyrics</th>\n",
       "      <th>violence</th>\n",
       "      <th>world/life</th>\n",
       "      <th>night/time</th>\n",
       "      <th>romantic</th>\n",
       "      <th>obscene</th>\n",
       "      <th>sadness</th>\n",
       "    </tr>\n",
       "    <tr>\n",
       "      <th>topic</th>\n",
       "      <th></th>\n",
       "      <th></th>\n",
       "      <th></th>\n",
       "      <th></th>\n",
       "      <th></th>\n",
       "      <th></th>\n",
       "      <th></th>\n",
       "      <th></th>\n",
       "      <th></th>\n",
       "      <th></th>\n",
       "      <th></th>\n",
       "    </tr>\n",
       "  </thead>\n",
       "  <tbody>\n",
       "    <tr>\n",
       "      <th>music</th>\n",
       "      <td>2303</td>\n",
       "      <td>2303</td>\n",
       "      <td>2303</td>\n",
       "      <td>2303</td>\n",
       "      <td>2303</td>\n",
       "      <td>2303</td>\n",
       "      <td>2303</td>\n",
       "      <td>2303</td>\n",
       "      <td>2303</td>\n",
       "      <td>2303</td>\n",
       "      <td>2303</td>\n",
       "    </tr>\n",
       "    <tr>\n",
       "      <th>night/time</th>\n",
       "      <td>1825</td>\n",
       "      <td>1825</td>\n",
       "      <td>1825</td>\n",
       "      <td>1825</td>\n",
       "      <td>1825</td>\n",
       "      <td>1825</td>\n",
       "      <td>1825</td>\n",
       "      <td>1825</td>\n",
       "      <td>1825</td>\n",
       "      <td>1825</td>\n",
       "      <td>1825</td>\n",
       "    </tr>\n",
       "    <tr>\n",
       "      <th>obscene</th>\n",
       "      <td>4882</td>\n",
       "      <td>4882</td>\n",
       "      <td>4882</td>\n",
       "      <td>4882</td>\n",
       "      <td>4882</td>\n",
       "      <td>4882</td>\n",
       "      <td>4882</td>\n",
       "      <td>4882</td>\n",
       "      <td>4882</td>\n",
       "      <td>4882</td>\n",
       "      <td>4882</td>\n",
       "    </tr>\n",
       "    <tr>\n",
       "      <th>romantic</th>\n",
       "      <td>1524</td>\n",
       "      <td>1524</td>\n",
       "      <td>1524</td>\n",
       "      <td>1524</td>\n",
       "      <td>1524</td>\n",
       "      <td>1524</td>\n",
       "      <td>1524</td>\n",
       "      <td>1524</td>\n",
       "      <td>1524</td>\n",
       "      <td>1524</td>\n",
       "      <td>1524</td>\n",
       "    </tr>\n",
       "    <tr>\n",
       "      <th>sadness</th>\n",
       "      <td>6096</td>\n",
       "      <td>6096</td>\n",
       "      <td>6096</td>\n",
       "      <td>6096</td>\n",
       "      <td>6096</td>\n",
       "      <td>6096</td>\n",
       "      <td>6096</td>\n",
       "      <td>6096</td>\n",
       "      <td>6096</td>\n",
       "      <td>6096</td>\n",
       "      <td>6096</td>\n",
       "    </tr>\n",
       "    <tr>\n",
       "      <th>violence</th>\n",
       "      <td>5710</td>\n",
       "      <td>5710</td>\n",
       "      <td>5710</td>\n",
       "      <td>5710</td>\n",
       "      <td>5710</td>\n",
       "      <td>5710</td>\n",
       "      <td>5710</td>\n",
       "      <td>5710</td>\n",
       "      <td>5710</td>\n",
       "      <td>5710</td>\n",
       "      <td>5710</td>\n",
       "    </tr>\n",
       "    <tr>\n",
       "      <th>world/life</th>\n",
       "      <td>5420</td>\n",
       "      <td>5420</td>\n",
       "      <td>5420</td>\n",
       "      <td>5420</td>\n",
       "      <td>5420</td>\n",
       "      <td>5420</td>\n",
       "      <td>5420</td>\n",
       "      <td>5420</td>\n",
       "      <td>5420</td>\n",
       "      <td>5420</td>\n",
       "      <td>5420</td>\n",
       "    </tr>\n",
       "  </tbody>\n",
       "</table>\n",
       "</div>"
      ],
      "text/plain": [
       "            artist_name  track_name  release_date  genre  lyrics  violence  \\\n",
       "topic                                                                        \n",
       "music              2303        2303          2303   2303    2303      2303   \n",
       "night/time         1825        1825          1825   1825    1825      1825   \n",
       "obscene            4882        4882          4882   4882    4882      4882   \n",
       "romantic           1524        1524          1524   1524    1524      1524   \n",
       "sadness            6096        6096          6096   6096    6096      6096   \n",
       "violence           5710        5710          5710   5710    5710      5710   \n",
       "world/life         5420        5420          5420   5420    5420      5420   \n",
       "\n",
       "            world/life  night/time  romantic  obscene  sadness  \n",
       "topic                                                           \n",
       "music             2303        2303      2303     2303     2303  \n",
       "night/time        1825        1825      1825     1825     1825  \n",
       "obscene           4882        4882      4882     4882     4882  \n",
       "romantic          1524        1524      1524     1524     1524  \n",
       "sadness           6096        6096      6096     6096     6096  \n",
       "violence          5710        5710      5710     5710     5710  \n",
       "world/life        5420        5420      5420     5420     5420  "
      ]
     },
     "execution_count": 8,
     "metadata": {},
     "output_type": "execute_result"
    }
   ],
   "source": [
    "music_topics_df.groupby(by='topic').count()"
   ]
  },
  {
   "cell_type": "code",
   "execution_count": 10,
   "metadata": {},
   "outputs": [
    {
     "name": "stdout",
     "output_type": "stream",
     "text": [
      "['music', 'night/time', 'obscene', 'romantic', 'sadness', 'violence', 'world/life']\n"
     ]
    },
    {
     "data": {
      "image/png": "[encoded data removed]",
      "text/plain": [
       "<Figure size 640x480 with 1 Axes>"
      ]
     },
     "metadata": {},
     "output_type": "display_data"
    }
   ],
   "source": [
    "import matplotlib.pyplot as plt\n",
    "\n",
    "#use unique topic values as the labels\n",
    "labels = list(music_topics_df.topic.unique())\n",
    "#alphabetize label list\n",
    "labels.sort()\n",
    "print(labels)\n",
    "\n",
    "#found the number of entries per topic using count() and compiled into a usable list\n",
    "num_topics = [2303, 1825, 4882, 1524, 6096, 5710, 5420]\n",
    "\n",
    "#assembled a pie chart for music topics, will use as control\n",
    "fig1, ax1 = plt.subplots()\n",
    "\n",
    "ax1.pie(num_topics, labels= labels, autopct=\"%1.1f%%\")\n",
    "\n",
    "ax1.axis('equal')\n",
    "\n",
    "plt.title('Songs by Topic 1950-2019')\n",
    "\n",
    "plt.style.use('dark_background')\n",
    "\n",
    "plt.legend(labels, bbox_to_anchor=(1,1), loc='best')\n",
    "\n",
    "plt.show()\n",
    "\n",
    "\n"
   ]
  },
  {
   "cell_type": "code",
   "execution_count": 12,
   "metadata": {},
   "outputs": [],
   "source": [
    "#write the cleaned and transformed data back to a csv\n",
    "music_topics_df.to_csv(\"./data/music_topics_cleaned.csv\", encoding='utf-8', index=False)"
   ]
  }
 ],
 "metadata": {
  "kernelspec": {
   "display_name": "venv",
   "language": "python",
   "name": "python3"
  },
  "language_info": {
   "codemirror_mode": {
    "name": "ipython",
    "version": 3
   },
   "file_extension": ".py",
   "mimetype": "text/x-python",
   "name": "python",
   "nbconvert_exporter": "python",
   "pygments_lexer": "ipython3",
   "version": "3.11.5"
  }
 },
 "nbformat": 4,
 "nbformat_minor": 2
}
